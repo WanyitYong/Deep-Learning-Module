{
  "cells": [
    {
      "attachments": {},
      "cell_type": "markdown",
      "metadata": {
        "id": "Lzentntp4Oxw"
      },
      "source": [
        "### Question 1\n",
        "a) Using Numpy for inputs A\n",
        "\n",
        "b) Using TensorFlow2 with inputs B\n"
      ]
    },
    {
      "cell_type": "code",
      "execution_count": 1,
      "metadata": {
        "id": "GV6EHdjF35Zr"
      },
      "outputs": [],
      "source": [
        "import numpy as np"
      ]
    },
    {
      "cell_type": "code",
      "execution_count": 2,
      "metadata": {
        "id": "n0-5umPk4Av8"
      },
      "outputs": [],
      "source": [
        "x_a = np.array(([0.4032, 0.4583]), dtype=float)\n",
        "y_a = np.array(([0.62]), dtype=float)"
      ]
    },
    {
      "cell_type": "code",
      "execution_count": 3,
      "metadata": {
        "id": "3Sk9_EC64Fd2"
      },
      "outputs": [],
      "source": [
        "# Class\n",
        "class ANN(object):\n",
        "    \n",
        "    # constructor, set up weights\n",
        "    def __init__(self):\n",
        "        #Weights (we are using two layers here), weights are pre set from example two in the notes\n",
        "        self.W1 = np.array(([1.23,0.34,-3.71],\n",
        "                            [-0.58,1.07,-0.65]), dtype=float) \n",
        "        self.W2 = np.array(([0.66],\n",
        "                            [1.25],\n",
        "                            [-1.02]), dtype=float)\n",
        "    \n",
        "    #sigmoid function\n",
        "    def sigmoid(self, valuesIN):\n",
        "        return 1/(1+np.exp(-valuesIN))\n",
        "    \n",
        "    #forward steps (remember slide 54)\n",
        "    def forward(self, inputsX):\n",
        "        # feedforward propagation\n",
        "        self.Zi = np.dot(inputsX, self.W1)     # Step 1\n",
        "        self.Ai = self.sigmoid(self.Zi)        # Step 2\n",
        "        self.Z4 = np.dot(self.Ai, self.W2)     # Step 3\n",
        "        y_Hat = self.sigmoid(self.Z4)          # Step 4\n",
        "        return y_Hat"
      ]
    },
    {
      "cell_type": "code",
      "execution_count": 4,
      "metadata": {
        "colab": {
          "base_uri": "https://localhost:8080/"
        },
        "id": "fhEn6YPy4Ipq",
        "outputId": "8eb983af-e853-41c4-c3d2-fdd63e9e4cc7"
      },
      "outputs": [
        {
          "name": "stdout",
          "output_type": "stream",
          "text": [
            "[0.73831593]\n",
            "Predicted Score: 73.83 %\n",
            "Loss: \n",
            "0.013998660001847537\n"
          ]
        }
      ],
      "source": [
        "NN = ANN()\n",
        "y_Hat = NN.forward(x_a)\n",
        "print(y_Hat)\n",
        "\n",
        "# back to sclae\n",
        "print(\"Predicted Score:\",round(y_Hat[0] * 100,2),\"%\")\n",
        "print(\"Loss: \\n\" + str(np.mean(np.square(y_a - NN.forward(x_a)))))"
      ]
    },
    {
      "cell_type": "code",
      "execution_count": 5,
      "metadata": {
        "colab": {
          "base_uri": "https://localhost:8080/"
        },
        "id": "EVT7xlsH5BFX",
        "outputId": "4199d694-13d4-4696-f8ff-7d41b79d7c8b"
      },
      "outputs": [
        {
          "name": "stdout",
          "output_type": "stream",
          "text": [
            "Randomly assigned initial weights:\n",
            "\n",
            "First layer : [array([[-0.73366153,  0.8796015 ,  0.28695   ],\n",
            "       [-0.14340228, -0.4558388 ,  0.3122064 ]], dtype=float32)]\n",
            "\n",
            "Second layer: [array([[ 0.02475715],\n",
            "       [-0.13831842],\n",
            "       [-0.2240473 ]], dtype=float32)]\n",
            "\n",
            "\n",
            "Assigning new weights:\n",
            "\n",
            "First layer : [array([[ 1.23,  0.34, -3.71],\n",
            "       [-0.58,  1.07, -0.65]], dtype=float32)]\n",
            "\n",
            "Second layer: [array([[ 0.66],\n",
            "       [ 1.25],\n",
            "       [-1.02]], dtype=float32)]\n",
            "\n",
            "\n",
            "Prediction y_hat = 0.7652656\n",
            "Loss             = 0.00021710217697545886\n"
          ]
        }
      ],
      "source": [
        "import tensorflow as tf\n",
        "from tensorflow import keras\n",
        "import numpy as np\n",
        "from tensorflow.keras.models import Sequential\n",
        "from tensorflow.keras.layers import Dense\n",
        "\n",
        "seed = 1\n",
        "# fix random seed for reproducibility\n",
        "np.random.seed(seed)\n",
        "tf.random.set_seed(seed)\n",
        "\n",
        "\n",
        "# Single Instance Input\n",
        "X = np.array(([[0.6129, 0.5]]), dtype=float)\n",
        "# Single Instance Output\n",
        "y = np.array(([0.78]), dtype=float)\n",
        "\n",
        "model = Sequential()\n",
        "model.add(Dense(3, input_dim=2, activation='sigmoid', use_bias = False))\n",
        "model.add(Dense(1, activation='sigmoid', use_bias = False))\n",
        "model.compile(loss='mse', metrics=['acc'])\n",
        "\n",
        "\n",
        "W1 = [np.array(([[1.23,0.34,-3.71],\n",
        "               [-0.58,1.07,-0.65]]), dtype=float)]\n",
        "W2 = [np.array(([0.66],\n",
        "               [1.25],\n",
        "               [-1.02]), dtype=float)]\n",
        "\n",
        "print(\"Randomly assigned initial weights:\")\n",
        "print(\"\\nFirst layer :\", model.layers[0].get_weights())\n",
        "print(\"\\nSecond layer:\", model.layers[1].get_weights())\n",
        "\n",
        "print(\"\\n\\nAssigning new weights:\")\n",
        "model.layers[0].set_weights(W1)\n",
        "model.layers[1].set_weights(W2)\n",
        "\n",
        "print(\"\\nFirst layer :\", model.layers[0].get_weights())\n",
        "print(\"\\nSecond layer:\", model.layers[1].get_weights())\n",
        "\n",
        "\n",
        "\n",
        "print(\"\\n\\nPrediction y_hat =\", model.predict(X)[0][0])\n",
        "\n",
        "result = model.fit(X,y, verbose = 0)\n",
        "print(\"Loss             =\", result.history[\"loss\"][0])"
      ]
    },
    {
      "attachments": {},
      "cell_type": "markdown",
      "metadata": {
        "id": "uTKW9vik6IKF"
      },
      "source": [
        "### Question 2"
      ]
    },
    {
      "cell_type": "code",
      "execution_count": 6,
      "metadata": {
        "id": "fTx1u_6p5Th1"
      },
      "outputs": [],
      "source": [
        "x2 = np.array(([0.5726, 0.5833]), dtype=float)\n",
        "y2 = np.array(([0.75]), dtype=float)"
      ]
    },
    {
      "cell_type": "code",
      "execution_count": 7,
      "metadata": {
        "id": "na8587q46RsF"
      },
      "outputs": [],
      "source": [
        "class ANN2(object):\n",
        "    \n",
        "    # constructor, set up weights\n",
        "    def __init__(self):\n",
        "        #parameters\n",
        "        self.inputSize = 2\n",
        "        self.outputSize = 1\n",
        "        self.hiddenSize = 3\n",
        "        \n",
        "        #Weights (we are using two layers here), weights are random\n",
        "        self.W1 = np.random.randn(self.inputSize, self.hiddenSize) \n",
        "        self.W2 = np.random.randn(self.hiddenSize, self.outputSize)\n",
        "    \n",
        "    #sigmoid function\n",
        "    def sigmoid(self, valuesIN):\n",
        "        return 1/(1+np.exp(-valuesIN))\n",
        "    \n",
        "    #forward steps (remember slide 54)\n",
        "    def forward(self, inputsX):\n",
        "        # feedforward propagation\n",
        "        self.Zi = np.dot(inputsX, self.W1)     # Step 1\n",
        "        self.Ai = self.sigmoid(self.Zi)        # Step 2\n",
        "        self.Z4 = np.dot(self.Ai, self.W2)     # Step 3\n",
        "        y_Hat = self.sigmoid(self.Z4)          # Step 4\n",
        "        return y_Hat"
      ]
    },
    {
      "cell_type": "code",
      "execution_count": 8,
      "metadata": {
        "colab": {
          "base_uri": "https://localhost:8080/"
        },
        "id": "3cMMmUm97KA1",
        "outputId": "407ab188-6500-4aa2-9ff9-1690a8c4caa8"
      },
      "outputs": [
        {
          "name": "stdout",
          "output_type": "stream",
          "text": [
            "Prediction:  75.01\n",
            "Best Weight 1:  [[-0.19136957  1.26051568  0.49889451]\n",
            " [ 1.41000386  0.41530106  0.39195774]]\n",
            "Best Weight 2:  [[-0.2223965 ]\n",
            " [ 1.43540371]\n",
            " [ 0.33472212]]\n",
            "Lowest Loss: 9.882363776182445e-09\n"
          ]
        }
      ],
      "source": [
        "best_W1= None\n",
        "best_W2= None\n",
        "lowest_E = None\n",
        "pred_G = None\n",
        "\n",
        "for i in range(1000):\n",
        "  test = ANN2()\n",
        "  y_Hat = test.forward(x2)\n",
        "  loss = (0.5 * (np.square(y2[0] - y_Hat[0])))\n",
        "  pred = round(y_Hat[0] * 100,2)\n",
        "\n",
        "  if(not lowest_E):\n",
        "    lowest_E = loss\n",
        "    best_W1 = test.W1\n",
        "    best_W2 = test.W2\n",
        "    pred_G = pred\n",
        "  elif(loss < lowest_E):\n",
        "    lowest_E = loss\n",
        "    best_W1 = test.W1\n",
        "    best_W2 = test.W2\n",
        "    pred_G = pred\n",
        "    \n",
        "print(\"Prediction: \", pred_G)\n",
        "print(\"Best Weight 1: \", best_W1)\n",
        "print(\"Best Weight 2: \", best_W2)\n",
        "print(\"Lowest Loss:\", lowest_E)"
      ]
    },
    {
      "attachments": {},
      "cell_type": "markdown",
      "metadata": {
        "id": "ctAzDJHYAcWs"
      },
      "source": [
        "### Question 3"
      ]
    },
    {
      "cell_type": "code",
      "execution_count": 9,
      "metadata": {
        "id": "TpjKLs1A7n3_"
      },
      "outputs": [],
      "source": [
        "### FOR TESTING THE BEST WEIGHT AND LOWEST LOSS\n",
        "class ANN3(object):\n",
        "    \n",
        "    # constructor, set up weights\n",
        "    def __init__(self):\n",
        "        #parameters\n",
        "        self.inputSize = 2\n",
        "        self.outputSize = 1\n",
        "        self.hiddenSize = 3\n",
        "        \n",
        "        #Weights (we are using two layers here), weights are random\n",
        "        self.W1 = best_W1\n",
        "        self.W2 = best_W2\n",
        "    \n",
        "    #sigmoid function\n",
        "    def sigmoid(self, valuesIN):\n",
        "        return 1/(1+np.exp(-valuesIN))\n",
        "    \n",
        "    #forward steps (remember slide 54)\n",
        "    def forward(self, inputsX):\n",
        "        # feedforward propagation\n",
        "        self.Zi = np.dot(inputsX, self.W1)     # Step 1\n",
        "        self.Ai = self.sigmoid(self.Zi)        # Step 2\n",
        "        self.Z4 = np.dot(self.Ai, self.W2)     # Step 3\n",
        "        y_Hat = self.sigmoid(self.Z4)          # Step 4\n",
        "        return y_Hat"
      ]
    },
    {
      "cell_type": "code",
      "execution_count": 11,
      "metadata": {
        "colab": {
          "base_uri": "https://localhost:8080/"
        },
        "id": "8paXGO9I_Z5I",
        "outputId": "2ebc497a-0687-4700-f764-f20a6f180e81"
      },
      "outputs": [
        {
          "name": "stdout",
          "output_type": "stream",
          "text": [
            "[0.75014059]\n",
            "Predicted Score: 75.01 %\n",
            "Loss: 9.882363776182445e-09\n"
          ]
        }
      ],
      "source": [
        "test2 = ANN3()\n",
        "y_Hat = test2.forward(x2)\n",
        "print(y_Hat)\n",
        "\n",
        "# back to scale\n",
        "print(\"Predicted Score:\",round(y_Hat[0] * 100,2),\"%\")\n",
        "print(\"Loss:\", (0.5 * (np.square(y2[0] - y_Hat[0]))))"
      ]
    },
    {
      "attachments": {},
      "cell_type": "markdown",
      "metadata": {
        "id": "N4mhF9ftBGc1"
      },
      "source": [
        "### Extra Test\n",
        "Run the model using the other instances/rows from question 1.\n",
        "\n",
        "Print out the predictions and errors. "
      ]
    },
    {
      "cell_type": "code",
      "execution_count": 10,
      "metadata": {
        "colab": {
          "base_uri": "https://localhost:8080/"
        },
        "id": "JaoL3-Sn_nr1",
        "outputId": "a41c55d4-6e5c-41e7-c4a7-d93697a8f8a4"
      },
      "outputs": [
        {
          "name": "stdout",
          "output_type": "stream",
          "text": [
            "Prediction:  62.0\n",
            "Best Weight 1:  [[-1.60355569  0.80990376  0.53743833]\n",
            " [ 0.23270918  0.15993397  0.72061341]]\n",
            "Best Weight 2:  [[-0.9358322 ]\n",
            " [-0.43003938]\n",
            " [ 1.72359101]]\n",
            "Lowest Loss: 1.0679285492102985e-09\n"
          ]
        }
      ],
      "source": [
        "x = np.array(([0.4032, 0.4583]), dtype=float)\n",
        "y = np.array(([0.62]), dtype=float)\n",
        "\n",
        "best_W1= None\n",
        "best_W2= None\n",
        "lowest_E = None\n",
        "pred_G = None\n",
        "\n",
        "for i in range(1000):\n",
        "  test = ANN2()\n",
        "  y_Hat = test.forward(x)\n",
        "  loss = (0.5 * (np.square(y[0] - y_Hat[0])))\n",
        "  pred = round(y_Hat[0] * 100,2)\n",
        "\n",
        "  if(not lowest_E):\n",
        "    lowest_E = loss\n",
        "    best_W1 = test.W1\n",
        "    best_W2 = test.W2\n",
        "    pred_G = pred\n",
        "  elif(loss < lowest_E):\n",
        "    lowest_E = loss\n",
        "    best_W1 = test.W1\n",
        "    best_W2 = test.W2\n",
        "    pred_G = pred\n",
        "    \n",
        "print(\"Prediction: \", pred_G)\n",
        "print(\"Best Weight 1: \", best_W1)\n",
        "print(\"Best Weight 2: \", best_W2)\n",
        "print(\"Lowest Loss:\", lowest_E)"
      ]
    },
    {
      "cell_type": "code",
      "execution_count": 13,
      "metadata": {
        "colab": {
          "base_uri": "https://localhost:8080/"
        },
        "id": "wqst_HY6S7Je",
        "outputId": "dc902143-e49c-4617-949f-7ca0560a28b4"
      },
      "outputs": [
        {
          "name": "stdout",
          "output_type": "stream",
          "text": [
            "Prediction:  80.1\n",
            "Best Weight 1:  [[-0.27718857  0.72941895  1.72903811]\n",
            " [ 0.43021491 -0.12713907 -1.29533518]]\n",
            "Best Weight 2:  [[0.21287157]\n",
            " [1.18634202]\n",
            " [0.96308258]]\n",
            "Lowest Loss: 5.47958045842439e-07\n"
          ]
        }
      ],
      "source": [
        "x = np.array(([0.6774, 0.6250]), dtype=float)\n",
        "y = np.array(([0.8]), dtype=float)\n",
        "\n",
        "best_W1= None\n",
        "best_W2= None\n",
        "lowest_E = None\n",
        "pred_G = None\n",
        "\n",
        "for i in range(1000):\n",
        "  test = ANN2()\n",
        "  y_Hat = test.forward(x)\n",
        "  loss = (0.5 * (np.square(y[0] - y_Hat[0])))\n",
        "  pred = round(y_Hat[0] * 100,2)\n",
        "\n",
        "  if(not lowest_E):\n",
        "    lowest_E = loss\n",
        "    best_W1 = test.W1\n",
        "    best_W2 = test.W2\n",
        "    pred_G = pred\n",
        "  elif(loss < lowest_E):\n",
        "    lowest_E = loss\n",
        "    best_W1 = test.W1\n",
        "    best_W2 = test.W2\n",
        "    pred_G = pred\n",
        "    \n",
        "print(\"Prediction: \", pred_G)\n",
        "print(\"Best Weight 1: \", best_W1)\n",
        "print(\"Best Weight 2: \", best_W2)\n",
        "print(\"Lowest Loss:\", lowest_E)"
      ]
    },
    {
      "cell_type": "code",
      "execution_count": 14,
      "metadata": {
        "colab": {
          "base_uri": "https://localhost:8080/"
        },
        "id": "06yABdFoTM8T",
        "outputId": "2c1ba462-ccd9-4f8a-f465-8aa280052f75"
      },
      "outputs": [
        {
          "name": "stdout",
          "output_type": "stream",
          "text": [
            "Prediction:  78.12\n",
            "Best Weight 1:  [[ 0.06572179 -1.32810763  0.0787641 ]\n",
            " [ 0.24671416 -0.1719782   1.07995358]]\n",
            "Best Weight 2:  [[-0.20166709]\n",
            " [ 1.24471637]\n",
            " [ 1.58914964]]\n",
            "Lowest Loss: 6.828916684876675e-07\n"
          ]
        }
      ],
      "source": [
        "x = np.array(([0.6129, 0.5]), dtype=float)\n",
        "y = np.array(([0.78]), dtype=float)\n",
        "\n",
        "best_W1= None\n",
        "best_W2= None\n",
        "lowest_E = None\n",
        "pred_G = None\n",
        "\n",
        "for i in range(1000):\n",
        "  test = ANN2()\n",
        "  y_Hat = test.forward(x)\n",
        "  loss = (0.5 * (np.square(y[0] - y_Hat[0])))\n",
        "  pred = round(y_Hat[0] * 100,2)\n",
        "\n",
        "  if(not lowest_E):\n",
        "    lowest_E = loss\n",
        "    best_W1 = test.W1\n",
        "    best_W2 = test.W2\n",
        "    pred_G = pred\n",
        "  elif(loss < lowest_E):\n",
        "    lowest_E = loss\n",
        "    best_W1 = test.W1\n",
        "    best_W2 = test.W2\n",
        "    pred_G = pred\n",
        "    \n",
        "print(\"Prediction: \", pred_G)\n",
        "print(\"Best Weight 1: \", best_W1)\n",
        "print(\"Best Weight 2: \", best_W2)\n",
        "print(\"Lowest Loss:\", lowest_E)"
      ]
    },
    {
      "cell_type": "code",
      "execution_count": null,
      "metadata": {
        "id": "1p5pG85sTQn1"
      },
      "outputs": [],
      "source": []
    }
  ],
  "metadata": {
    "colab": {
      "provenance": []
    },
    "kernelspec": {
      "display_name": "Python 3",
      "name": "python3"
    },
    "language_info": {
      "codemirror_mode": {
        "name": "ipython",
        "version": 3
      },
      "file_extension": ".py",
      "mimetype": "text/x-python",
      "name": "python",
      "nbconvert_exporter": "python",
      "pygments_lexer": "ipython3",
      "version": "3.7.16"
    }
  },
  "nbformat": 4,
  "nbformat_minor": 0
}
