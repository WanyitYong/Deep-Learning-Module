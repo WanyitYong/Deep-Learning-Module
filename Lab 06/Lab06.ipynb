{
 "cells": [
  {
   "attachments": {},
   "cell_type": "markdown",
   "metadata": {},
   "source": [
    "## Imports"
   ]
  },
  {
   "cell_type": "code",
   "execution_count": 1,
   "metadata": {},
   "outputs": [],
   "source": [
    "import tensorflow as tf\n",
    "from tensorflow import keras\n",
    "import numpy as np\n",
    "from tensorflow.keras.models import Sequential\n",
    "from tensorflow.keras.layers import Dense\n",
    "from tensorflow.keras.utils import to_categorical\n",
    "\n",
    "\n",
    "from tensorflow.keras.layers import Conv2D\n",
    "from tensorflow.keras.layers import MaxPooling2D\n",
    "from tensorflow.keras.layers import Flatten\n",
    "from tensorflow.keras.preprocessing.image import ImageDataGenerator\n",
    "\n",
    "\n",
    "import matplotlib.pyplot as plt\n",
    "%matplotlib inline  \n",
    "import time\n",
    "\n",
    "from PIL import Image\n",
    "import glob"
   ]
  },
  {
   "attachments": {},
   "cell_type": "markdown",
   "metadata": {},
   "source": [
    "## Load and pre-process data"
   ]
  },
  {
   "cell_type": "code",
   "execution_count": 2,
   "metadata": {},
   "outputs": [
    {
     "name": "stderr",
     "output_type": "stream",
     "text": [
      "C:\\Users\\Wan Yit\\AppData\\Roaming\\Python\\Python37\\site-packages\\ipykernel_launcher.py:19: DeprecationWarning: ANTIALIAS is deprecated and will be removed in Pillow 10 (2023-07-01). Use LANCZOS or Resampling.LANCZOS instead.\n",
      "C:\\Users\\Wan Yit\\AppData\\Roaming\\Python\\Python37\\site-packages\\ipykernel_launcher.py:33: DeprecationWarning: ANTIALIAS is deprecated and will be removed in Pillow 10 (2023-07-01). Use LANCZOS or Resampling.LANCZOS instead.\n"
     ]
    }
   ],
   "source": [
    "# fix random seed for reproducibility\n",
    "seed = 1\n",
    "np.random.seed(seed)\n",
    "tf.random.set_seed(seed)\n",
    "\n",
    "# 64 and bigger ran into an OOM\n",
    "w = 32\n",
    "h = 32\n",
    "\n",
    "# Load data\n",
    "X =[]\n",
    "Y =[]\n",
    "\n",
    "for filename in glob.glob('../Week 04/Borzoi/*.jpg'):\n",
    "    # Convert each image to greay scale\n",
    "    im=Image.open(filename).convert('L')\n",
    "    \n",
    "    # Resize the images\n",
    "    im = im.resize((w,h),Image.ANTIALIAS)\n",
    "    \n",
    "    #Show each image for the CA\n",
    "    \n",
    "    # Convert to numpy array\n",
    "    arr = np.array(im)\n",
    "    \n",
    "    # add images and class to the two lists\n",
    "    X.append(arr)\n",
    "    Y.append(1)  # Jack russel class \n",
    "\n",
    "# same below\n",
    "for filename in glob.glob('../Week 04/Maltese/*.jpg'):\n",
    "    im=Image.open(filename).convert('L')\n",
    "    im = im.resize((w,h),Image.ANTIALIAS)\n",
    "    arr = np.array(im)\n",
    "    X.append(arr)\n",
    "    Y.append(2)  # Ridgeback class\n",
    "\n",
    "    \n",
    "# Convert to NP array\n",
    "X = np.array(X)\n",
    "\n",
    "\n",
    "# reshape to be [samples][channels][width][height]\n",
    "# in case CPU must be channels last\n",
    "X = X.reshape(X.shape[0], w, h, 1 ).astype('float32')\n",
    "\n",
    "# Normalize the data\n",
    "X = X /255\n",
    "\n",
    "# one hot encode outputs\n",
    "Y = np.array(Y)\n",
    "\n",
    "# randomize the data set - numpy arrays\n",
    "randomize = np.arange(len(X))\n",
    "np.random.shuffle(randomize)\n",
    "X = X[randomize]\n",
    "Y = Y[randomize]\n",
    "\n",
    "Y = to_categorical(Y)\n",
    "num_classes = Y.shape[1]"
   ]
  },
  {
   "attachments": {},
   "cell_type": "markdown",
   "metadata": {},
   "source": [
    "## Load and Pre-process data -Batch Processing"
   ]
  },
  {
   "cell_type": "code",
   "execution_count": 3,
   "metadata": {},
   "outputs": [
    {
     "name": "stdout",
     "output_type": "stream",
     "text": [
      "Found 323 images belonging to 2 classes.\n",
      "Found 80 images belonging to 2 classes.\n"
     ]
    }
   ],
   "source": [
    "# fix random seed for reproducibility\n",
    "seed = 1\n",
    "np.random.seed(seed)\n",
    "tf.random.set_seed(seed)\n",
    "\n",
    "w = 32\n",
    "h = 32\n",
    "\n",
    "# create a data generator\n",
    "datagen = ImageDataGenerator(\n",
    "        samplewise_center=True,  # set each sample mean to 0\n",
    "        rotation_range=10,  # randomly rotate images in the range (degrees, 0 to 180)\n",
    "        zoom_range = 0.1, # Randomly zoom image \n",
    "        width_shift_range=0.1,  # randomly shift images horizontally (fraction of total width)\n",
    "        height_shift_range=0.1,  # randomly shift images vertically (fraction of total height)\n",
    "        horizontal_flip=True,  # randomly flip images\n",
    "        vertical_flip=False,\n",
    "        validation_split = 0.2) # we don't expect dogs to be upside-down so we will not flip vertically\n",
    "\n",
    "\n",
    "# load and iterate training dataset\n",
    "train_batch_processing = datagen.flow_from_directory('test/', \n",
    "                                       target_size=(w, h), \n",
    "                                       color_mode='grayscale', \n",
    "                                       class_mode='binary', \n",
    "                                       batch_size=8,\n",
    "                                       subset = 'training')\n",
    "# load and iterate validation dataset\n",
    "valid_batch_processing = datagen.flow_from_directory('test/', \n",
    "                                      target_size=(w, h), \n",
    "                                      color_mode='grayscale', \n",
    "                                      class_mode='binary', \n",
    "                                      batch_size=8,\n",
    "                                      subset = 'validation')"
   ]
  },
  {
   "cell_type": "code",
   "execution_count": 4,
   "metadata": {},
   "outputs": [
    {
     "name": "stdout",
     "output_type": "stream",
     "text": [
      "WARNING:tensorflow:sample_weight modes were coerced from\n",
      "  ...\n",
      "    to  \n",
      "  ['...']\n",
      "WARNING:tensorflow:sample_weight modes were coerced from\n",
      "  ...\n",
      "    to  \n",
      "  ['...']\n",
      "Train for 41 steps, validate for 10 steps\n",
      "Epoch 1/10\n",
      "41/41 [==============================] - 9s 211ms/step - loss: 17.5940 - acc: 0.5449 - val_loss: 2.1742 - val_acc: 0.6875\n",
      "Epoch 2/10\n",
      "41/41 [==============================] - 2s 41ms/step - loss: 2.1625 - acc: 0.6347 - val_loss: 2.8338 - val_acc: 0.6250\n",
      "Epoch 3/10\n",
      "41/41 [==============================] - 2s 44ms/step - loss: 0.8935 - acc: 0.7152 - val_loss: 0.9227 - val_acc: 0.6500\n",
      "Epoch 4/10\n",
      "41/41 [==============================] - 2s 45ms/step - loss: 0.6839 - acc: 0.6811 - val_loss: 0.9410 - val_acc: 0.6500\n",
      "Epoch 5/10\n",
      "41/41 [==============================] - 2s 43ms/step - loss: 0.6793 - acc: 0.7028 - val_loss: 0.6727 - val_acc: 0.6625\n",
      "Epoch 6/10\n",
      "41/41 [==============================] - 2s 49ms/step - loss: 0.6300 - acc: 0.6471 - val_loss: 0.6464 - val_acc: 0.6625\n",
      "Epoch 7/10\n",
      "41/41 [==============================] - 2s 43ms/step - loss: 0.5728 - acc: 0.7214 - val_loss: 0.6449 - val_acc: 0.6125\n",
      "Epoch 8/10\n",
      "41/41 [==============================] - 2s 42ms/step - loss: 0.5737 - acc: 0.6997 - val_loss: 0.6413 - val_acc: 0.6875\n",
      "Epoch 9/10\n",
      "41/41 [==============================] - 2s 45ms/step - loss: 0.5310 - acc: 0.7368 - val_loss: 0.7323 - val_acc: 0.7125\n",
      "Epoch 10/10\n",
      "41/41 [==============================] - 2s 48ms/step - loss: 0.5488 - acc: 0.7276 - val_loss: 0.5730 - val_acc: 0.6875\n"
     ]
    },
    {
     "data": {
      "image/png": "[encoded data removed]",
      "text/plain": [
       "<Figure size 640x480 with 1 Axes>"
      ]
     },
     "metadata": {},
     "output_type": "display_data"
    }
   ],
   "source": [
    "np.random.seed(seed)\n",
    "tf.random.set_seed(seed)\n",
    "\n",
    "modelC = Sequential()\n",
    "modelC.add(Conv2D(32, (3, 3), strides=1, padding=\"valid\", input_shape=(w, h, 1), activation='relu'))\n",
    "modelC.add(MaxPooling2D(pool_size=(2, 2), padding=\"valid\"))\n",
    "\n",
    "modelC.add(Flatten())\n",
    "modelC.add(Dense(128, activation='relu'))\n",
    "modelC.add(Dense(2, activation='softmax'))\n",
    "\n",
    "\n",
    "modelC.compile(loss='sparse_categorical_crossentropy', optimizer='adam', metrics=['acc'])\n",
    "\n",
    "# Fit the model\n",
    "history = modelC.fit(train_batch_processing, validation_data=valid_batch_processing, epochs=10, verbose=1)\n",
    "\n",
    "# summarize history for accuracy\n",
    "plt.plot(history.history['acc'])\n",
    "plt.plot(history.history['val_acc'])\n",
    "plt.title('model accuracy')\n",
    "plt.ylabel('accuracy')\n",
    "plt.xlabel('epoch')\n",
    "plt.legend(['train', 'test'], loc='upper right')\n",
    "plt.show()"
   ]
  },
  {
   "cell_type": "code",
   "execution_count": 5,
   "metadata": {},
   "outputs": [
    {
     "name": "stdout",
     "output_type": "stream",
     "text": [
      "WARNING:tensorflow:From c:\\Users\\Wan Yit\\anaconda3\\envs\\hcaim\\lib\\site-packages\\tensorflow_core\\python\\ops\\resource_variable_ops.py:1786: calling BaseResourceVariable.__init__ (from tensorflow.python.ops.resource_variable_ops) with constraint is deprecated and will be removed in a future version.\n",
      "Instructions for updating:\n",
      "If using Keras pass *_constraint arguments to layers.\n",
      "INFO:tensorflow:Assets written to: C:\\production\\1688800804\\assets\n"
     ]
    }
   ],
   "source": [
    "ts = int(time.time())\n",
    "file_path = f\"C:\\production\\{ts}\"\n",
    "modelC.save(filepath=file_path, save_format='tf')"
   ]
  },
  {
   "cell_type": "code",
   "execution_count": 1,
   "metadata": {},
   "outputs": [
    {
     "ename": "NameError",
     "evalue": "name 'np' is not defined",
     "output_type": "error",
     "traceback": [
      "\u001b[1;31m---------------------------------------------------------------------------\u001b[0m",
      "\u001b[1;31mNameError\u001b[0m                                 Traceback (most recent call last)",
      "\u001b[1;32m~\\AppData\\Local\\Temp\\ipykernel_16888\\2618708178.py\u001b[0m in \u001b[0;36m<module>\u001b[1;34m\u001b[0m\n\u001b[0;32m      7\u001b[0m \u001b[1;31m# fix random seed for reproducibility\u001b[0m\u001b[1;33m\u001b[0m\u001b[1;33m\u001b[0m\u001b[1;33m\u001b[0m\u001b[0m\n\u001b[0;32m      8\u001b[0m \u001b[0mseed\u001b[0m \u001b[1;33m=\u001b[0m \u001b[1;36m1\u001b[0m\u001b[1;33m\u001b[0m\u001b[1;33m\u001b[0m\u001b[0m\n\u001b[1;32m----> 9\u001b[1;33m \u001b[0mnp\u001b[0m\u001b[1;33m.\u001b[0m\u001b[0mrandom\u001b[0m\u001b[1;33m.\u001b[0m\u001b[0mseed\u001b[0m\u001b[1;33m(\u001b[0m\u001b[0mseed\u001b[0m\u001b[1;33m)\u001b[0m\u001b[1;33m\u001b[0m\u001b[1;33m\u001b[0m\u001b[0m\n\u001b[0m\u001b[0;32m     10\u001b[0m \u001b[0mtf\u001b[0m\u001b[1;33m.\u001b[0m\u001b[0mrandom\u001b[0m\u001b[1;33m.\u001b[0m\u001b[0mset_seed\u001b[0m\u001b[1;33m(\u001b[0m\u001b[0mseed\u001b[0m\u001b[1;33m)\u001b[0m\u001b[1;33m\u001b[0m\u001b[1;33m\u001b[0m\u001b[0m\n\u001b[0;32m     11\u001b[0m \u001b[1;33m\u001b[0m\u001b[0m\n",
      "\u001b[1;31mNameError\u001b[0m: name 'np' is not defined"
     ]
    }
   ],
   "source": [
    "import requests\n",
    "import json\n",
    "\n",
    "w = 32\n",
    "h = 32\n",
    "\n",
    "# fix random seed for reproducibility\n",
    "seed = 1\n",
    "np.random.seed(seed)\n",
    "tf.random.set_seed(seed)\n",
    "\n",
    "correct = 0\n",
    "\n",
    "url = 'http://localhost:8501/v1/models/img_classifier:predict'\n",
    "#url = 'http://20.246.185.79:8501/v1/models/img_classifier:predict'\n",
    "\n",
    "def make_prediction(instances):\n",
    "    data = json.dumps({\"signature_name\": \"serving_default\", \"instances\": instances.tolist()})\n",
    "    headers = {\"content-type\": \"application/json\"}\n",
    "    json_response = requests.post(url, data=data, headers=headers)\n",
    "    predictions = json.loads(json_response.text)[\"predictions\"]\n",
    "    return predictions\n",
    "\n",
    "\n",
    "rawImages = []\n",
    "instances = []\n",
    "\n",
    "\n",
    "for filename in glob.glob('validate/class0/*.jpg'):\n",
    "    im=Image.open(filename)\n",
    "    rawImages.append(im)\n",
    "    im = im.convert('L')\n",
    "    im = im.resize((w,h),Image.ANTIALIAS)\n",
    "    X = np.array(im)\n",
    "    # Normalize the data\n",
    "    X = X /255\n",
    "    instances.append(X)\n",
    "\n",
    "\n",
    "for filename in glob.glob('validate/class1/*.jpg'):\n",
    "    im=Image.open(filename)\n",
    "    rawImages.append(im)\n",
    "    im = im.convert('L')\n",
    "    im = im.resize((w,h),Image.ANTIALIAS)\n",
    "    X = np.array(im)\n",
    "    # Normalize the data\n",
    "    X = X /255\n",
    "    instances.append(X)\n",
    "\n",
    "\n",
    "instances = np.array(instances)\n",
    "instances = instances.reshape(instances.shape[0],w, h, 1).astype('float32')\n",
    "\n",
    "predictions = make_prediction(instances)\n",
    "\n",
    "for i, pred in enumerate(predictions):\n",
    "    imgplot = plt.imshow(rawImages[i])\n",
    "    plt.show()\n",
    "    if np.argmax(pred) == 0:\n",
    "        print(\"Maltese\")\n",
    "    else:\n",
    "        print(\"Borzoi\")"
   ]
  }
 ],
 "metadata": {
  "kernelspec": {
   "display_name": "hcaim",
   "language": "python",
   "name": "python3"
  },
  "language_info": {
   "codemirror_mode": {
    "name": "ipython",
    "version": 3
   },
   "file_extension": ".py",
   "mimetype": "text/x-python",
   "name": "python",
   "nbconvert_exporter": "python",
   "pygments_lexer": "ipython3",
   "version": "3.7.16"
  },
  "orig_nbformat": 4
 },
 "nbformat": 4,
 "nbformat_minor": 2
}
